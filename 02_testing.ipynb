{
 "cells": [
  {
   "cell_type": "markdown",
   "metadata": {},
   "source": [
    "## 🧐 Klasyfikacja nowego obrazu\n",
    "\n",
    "Teraz załadujemy pojedyncze zdjęcie i wprowadzimy do modelu, aby sprawdzić, jaki typ komórki zostanie przewidziany.  \n",
    "\n",
    "Model zwróci **wektor prawdopodobieństw** dla 4 klas, a my wybierzemy tę z najwyższą wartością.\n"
   ]
  },
  {
   "cell_type": "code",
   "metadata": {
    "ExecuteTime": {
     "end_time": "2025-02-25T14:49:51.910553Z",
     "start_time": "2025-02-25T14:49:51.485061Z"
    }
   },
   "source": [
    "import tensorflow as ts\n",
    "import numpy as np\n",
    "from tensorflow.keras.preprocessing import image\n",
    "\n",
    "IMG_SIZE = (240, 240)\n",
    "\n",
    "# Wczytanie modelu\n",
    "model = ts.keras.models.load_model(\"blood_cell_classifier.h5\")\n",
    "\n",
    "# Przetwarzanie obrazu do testu\n",
    "img_path = \"images/TEST_SIMPLE/NEUTROPHIL/_0_1966.jpeg\"\n",
    "# img_path = \"images/TEST_SIMPLE/MONOCYTE/_0_5020.jpeg\"\n",
    "img = image.load_img(img_path, target_size=IMG_SIZE)\n",
    "img_array = image.img_to_array(img) / 255.0\n",
    "img_array = np.expand_dims(img_array, axis=0)\n",
    "\n",
    "# Predykcja\n",
    "predictions = model.predict(img_array)\n",
    "class_names = [\"EOSINOPHIL\", \"LYMPHOCYTE\", \"MONOCYTE\", \"NEUTROPHIL\"]\n",
    "predicted_class = class_names[np.argmax(predictions)]\n",
    "print(f\"Model przewiduje: {predicted_class}\")\n"
   ],
   "outputs": [
    {
     "name": "stderr",
     "output_type": "stream",
     "text": [
      "WARNING:absl:Compiled the loaded model, but the compiled metrics have yet to be built. `model.compile_metrics` will be empty until you train or evaluate the model.\n"
     ]
    },
    {
     "name": "stdout",
     "output_type": "stream",
     "text": [
      "\u001B[1m1/1\u001B[0m \u001B[32m━━━━━━━━━━━━━━━━━━━━\u001B[0m\u001B[37m\u001B[0m \u001B[1m0s\u001B[0m 177ms/step\n",
      "Model przewiduje: NEUTROPHIL\n"
     ]
    }
   ],
   "execution_count": 3
  }
 ],
 "metadata": {
  "kernelspec": {
   "display_name": ".venv",
   "language": "python",
   "name": "python3"
  },
  "language_info": {
   "codemirror_mode": {
    "name": "ipython",
    "version": 3
   },
   "file_extension": ".py",
   "mimetype": "text/x-python",
   "name": "python",
   "nbconvert_exporter": "python",
   "pygments_lexer": "ipython3",
   "version": "3.10.16"
  }
 },
 "nbformat": 4,
 "nbformat_minor": 2
}
